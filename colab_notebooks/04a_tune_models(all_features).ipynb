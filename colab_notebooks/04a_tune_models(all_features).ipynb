{
  "nbformat": 4,
  "nbformat_minor": 0,
  "metadata": {
    "colab": {
      "name": "04a_tune_models(all features).ipynb",
      "version": "0.3.2",
      "provenance": [],
      "collapsed_sections": []
    },
    "kernelspec": {
      "name": "python3",
      "display_name": "Python 3"
    }
  },
  "cells": [
    {
      "cell_type": "markdown",
      "metadata": {
        "id": "pkWQm9DaDdDU",
        "colab_type": "text"
      },
      "source": [
        "## This notebook is used to tune parameters for some classifier that will be used in our models."
      ]
    },
    {
      "cell_type": "code",
      "metadata": {
        "id": "Sy3KOKAU0XJz",
        "colab_type": "code",
        "outputId": "09d7e10f-a595-49a8-f6fd-b8487e2f2028",
        "colab": {
          "base_uri": "https://localhost:8080/",
          "height": 54
        }
      },
      "source": [
        "from google.colab import drive\n",
        "import numpy as np\n",
        "import pandas as pd\n",
        "\n",
        "GDRIVE_BASE_PATH = '/content/gdrive'\n",
        "BASE_DATA_FOLDER_PATH = f'{GDRIVE_BASE_PATH}/My Drive/project_scs3253/data'\n",
        "RAW_DATA_FOLDER_PATH = f'{BASE_DATA_FOLDER_PATH}/raw_downloaded'\n",
        "\n",
        "drive.mount(GDRIVE_BASE_PATH)"
      ],
      "execution_count": 1,
      "outputs": [
        {
          "output_type": "stream",
          "text": [
            "Drive already mounted at /content/gdrive; to attempt to forcibly remount, call drive.mount(\"/content/gdrive\", force_remount=True).\n"
          ],
          "name": "stdout"
        }
      ]
    },
    {
      "cell_type": "code",
      "metadata": {
        "id": "_BSc6l21Fjdw",
        "colab_type": "code",
        "outputId": "6af0dbfe-d82a-4c08-8d4d-8f861ac866da",
        "colab": {
          "base_uri": "https://localhost:8080/",
          "height": 34
        }
      },
      "source": [
        "\n",
        "# Loading our project setup\n",
        "HOME_DIR = '/content/gdrive/My Drive/project_scs3253'\n",
        "% cd $HOME_DIR\n",
        "\n",
        "from util.project_setup import ProjectSetup\n",
        "import numpy as np\n",
        "import pandas as pd\n",
        "\n",
        "RANDOM_SEED = 1\n",
        "np.random.seed(RANDOM_SEED)\n",
        "\n",
        "CV_COUNT = 5\n",
        "\n",
        "#SCORING_METRICS = 'f1'\n",
        "SCORING_METRICS = 'accuracy'"
      ],
      "execution_count": 2,
      "outputs": [
        {
          "output_type": "stream",
          "text": [
            "/content/gdrive/My Drive/project_scs3253\n"
          ],
          "name": "stdout"
        }
      ]
    },
    {
      "cell_type": "code",
      "metadata": {
        "id": "QNTQAPe909ye",
        "colab_type": "code",
        "outputId": "74af0ddc-414d-46a9-8b68-78fe97398318",
        "colab": {
          "base_uri": "https://localhost:8080/",
          "height": 909
        }
      },
      "source": [
        "import pandas as pd\n",
        "\n",
        "# purposely don't want to use UserKey as index\n",
        "df = pd.read_csv(f'{BASE_DATA_FOLDER_PATH}/filter_1000holdtime_1000obs_mildonly.csv', sep=',', index_col=0)\n",
        "df = df.drop(\"userkey\", axis=1)\n",
        "\n",
        "print(df.shape)        \n",
        "print(df.info())\n",
        "df.head()"
      ],
      "execution_count": 3,
      "outputs": [
        {
          "output_type": "stream",
          "text": [
            "(84, 31)\n",
            "<class 'pandas.core.frame.DataFrame'>\n",
            "Int64Index: 84 entries, 0 to 83\n",
            "Data columns (total 31 columns):\n",
            "hold_time_l_mean               84 non-null float64\n",
            "hold_time_r_mean               84 non-null float64\n",
            "hold_time_l_std                84 non-null float64\n",
            "hold_time_r_std                84 non-null float64\n",
            "hold_time_l_skew               84 non-null float64\n",
            "hold_time_r_skew               84 non-null float64\n",
            "hold_time_l_kurtosis           84 non-null float64\n",
            "hold_time_r_kurtosis           84 non-null float64\n",
            "hold_time_diff                 84 non-null float64\n",
            "hold_time_diff_abs             84 non-null float64\n",
            "latency_time_ll_mean           84 non-null float64\n",
            "latency_time_rr_mean           84 non-null float64\n",
            "latency_time_lr_mean           84 non-null float64\n",
            "latency_time_rl_mean           84 non-null float64\n",
            "latency_time_ll_std            84 non-null float64\n",
            "latency_time_rr_std            84 non-null float64\n",
            "latency_time_lr_std            84 non-null float64\n",
            "latency_time_rl_std            84 non-null float64\n",
            "latency_time_ll_skew           84 non-null float64\n",
            "latency_time_rr_skew           84 non-null float64\n",
            "latency_time_lr_skew           84 non-null float64\n",
            "latency_time_rl_skew           84 non-null float64\n",
            "latency_time_ll_kurtosis       84 non-null float64\n",
            "latency_time_rr_kurtosis       84 non-null float64\n",
            "latency_time_lr_kurtosis       84 non-null float64\n",
            "latency_time_rl_kurtosis       84 non-null float64\n",
            "latency_time_ll_rr_diff        84 non-null float64\n",
            "latency_time_lr_rl_diff        84 non-null float64\n",
            "latency_time_ll_rr_diff_abs    84 non-null float64\n",
            "latency_time_lr_rl_diff_abs    84 non-null float64\n",
            "parkinsons                     84 non-null bool\n",
            "dtypes: bool(1), float64(30)\n",
            "memory usage: 20.4 KB\n",
            "None\n"
          ],
          "name": "stdout"
        },
        {
          "output_type": "execute_result",
          "data": {
            "text/html": [
              "<div>\n",
              "<style scoped>\n",
              "    .dataframe tbody tr th:only-of-type {\n",
              "        vertical-align: middle;\n",
              "    }\n",
              "\n",
              "    .dataframe tbody tr th {\n",
              "        vertical-align: top;\n",
              "    }\n",
              "\n",
              "    .dataframe thead th {\n",
              "        text-align: right;\n",
              "    }\n",
              "</style>\n",
              "<table border=\"1\" class=\"dataframe\">\n",
              "  <thead>\n",
              "    <tr style=\"text-align: right;\">\n",
              "      <th></th>\n",
              "      <th>hold_time_l_mean</th>\n",
              "      <th>hold_time_r_mean</th>\n",
              "      <th>hold_time_l_std</th>\n",
              "      <th>hold_time_r_std</th>\n",
              "      <th>hold_time_l_skew</th>\n",
              "      <th>...</th>\n",
              "      <th>latency_time_ll_rr_diff</th>\n",
              "      <th>latency_time_lr_rl_diff</th>\n",
              "      <th>latency_time_ll_rr_diff_abs</th>\n",
              "      <th>latency_time_lr_rl_diff_abs</th>\n",
              "      <th>parkinsons</th>\n",
              "    </tr>\n",
              "  </thead>\n",
              "  <tbody>\n",
              "    <tr>\n",
              "      <th>0</th>\n",
              "      <td>98.931818</td>\n",
              "      <td>101.595749</td>\n",
              "      <td>23.869914</td>\n",
              "      <td>37.219557</td>\n",
              "      <td>0.236835</td>\n",
              "      <td>...</td>\n",
              "      <td>40.979771</td>\n",
              "      <td>-18.540793</td>\n",
              "      <td>40.979771</td>\n",
              "      <td>18.540793</td>\n",
              "      <td>False</td>\n",
              "    </tr>\n",
              "    <tr>\n",
              "      <th>1</th>\n",
              "      <td>153.702407</td>\n",
              "      <td>105.622423</td>\n",
              "      <td>53.213749</td>\n",
              "      <td>27.036622</td>\n",
              "      <td>0.264980</td>\n",
              "      <td>...</td>\n",
              "      <td>25.711714</td>\n",
              "      <td>2.742036</td>\n",
              "      <td>25.711714</td>\n",
              "      <td>2.742036</td>\n",
              "      <td>False</td>\n",
              "    </tr>\n",
              "    <tr>\n",
              "      <th>2</th>\n",
              "      <td>147.626087</td>\n",
              "      <td>167.039039</td>\n",
              "      <td>47.259923</td>\n",
              "      <td>56.045862</td>\n",
              "      <td>0.666778</td>\n",
              "      <td>...</td>\n",
              "      <td>34.890816</td>\n",
              "      <td>74.204668</td>\n",
              "      <td>34.890816</td>\n",
              "      <td>74.204668</td>\n",
              "      <td>False</td>\n",
              "    </tr>\n",
              "    <tr>\n",
              "      <th>3</th>\n",
              "      <td>125.093648</td>\n",
              "      <td>125.944823</td>\n",
              "      <td>21.344768</td>\n",
              "      <td>20.440962</td>\n",
              "      <td>0.433463</td>\n",
              "      <td>...</td>\n",
              "      <td>-32.314242</td>\n",
              "      <td>14.221029</td>\n",
              "      <td>32.314242</td>\n",
              "      <td>14.221029</td>\n",
              "      <td>True</td>\n",
              "    </tr>\n",
              "    <tr>\n",
              "      <th>4</th>\n",
              "      <td>186.434423</td>\n",
              "      <td>141.827793</td>\n",
              "      <td>61.740463</td>\n",
              "      <td>43.035236</td>\n",
              "      <td>0.428770</td>\n",
              "      <td>...</td>\n",
              "      <td>-4.639493</td>\n",
              "      <td>-75.820623</td>\n",
              "      <td>4.639493</td>\n",
              "      <td>75.820623</td>\n",
              "      <td>False</td>\n",
              "    </tr>\n",
              "  </tbody>\n",
              "</table>\n",
              "<p>5 rows × 31 columns</p>\n",
              "</div>"
            ],
            "text/plain": [
              "   hold_time_l_mean  hold_time_r_mean  hold_time_l_std  hold_time_r_std  \\\n",
              "0         98.931818        101.595749        23.869914        37.219557   \n",
              "1        153.702407        105.622423        53.213749        27.036622   \n",
              "2        147.626087        167.039039        47.259923        56.045862   \n",
              "3        125.093648        125.944823        21.344768        20.440962   \n",
              "4        186.434423        141.827793        61.740463        43.035236   \n",
              "\n",
              "   hold_time_l_skew  ...  latency_time_ll_rr_diff  latency_time_lr_rl_diff  \\\n",
              "0          0.236835  ...                40.979771               -18.540793   \n",
              "1          0.264980  ...                25.711714                 2.742036   \n",
              "2          0.666778  ...                34.890816                74.204668   \n",
              "3          0.433463  ...               -32.314242                14.221029   \n",
              "4          0.428770  ...                -4.639493               -75.820623   \n",
              "\n",
              "   latency_time_ll_rr_diff_abs  latency_time_lr_rl_diff_abs  parkinsons  \n",
              "0                    40.979771                    18.540793       False  \n",
              "1                    25.711714                     2.742036       False  \n",
              "2                    34.890816                    74.204668       False  \n",
              "3                    32.314242                    14.221029        True  \n",
              "4                     4.639493                    75.820623       False  \n",
              "\n",
              "[5 rows x 31 columns]"
            ]
          },
          "metadata": {
            "tags": []
          },
          "execution_count": 3
        }
      ]
    },
    {
      "cell_type": "code",
      "metadata": {
        "id": "SsCc11IrgWwP",
        "colab_type": "code",
        "outputId": "36fd60c0-24cc-4091-b22e-deb6d93575a3",
        "colab": {
          "base_uri": "https://localhost:8080/",
          "height": 34
        }
      },
      "source": [
        "y = df['parkinsons']\n",
        "X_orig = df.drop([\n",
        "             \"parkinsons\"], axis=1)\n",
        "\n",
        "X=X_orig\n",
        "print(X.shape, y.shape)"
      ],
      "execution_count": 4,
      "outputs": [
        {
          "output_type": "stream",
          "text": [
            "(84, 30) (84,)\n"
          ],
          "name": "stdout"
        }
      ]
    },
    {
      "cell_type": "code",
      "metadata": {
        "id": "UIpTMrw9hrAz",
        "colab_type": "code",
        "colab": {}
      },
      "source": [
        "# # Break X into 2 tables, one contains the holdtime related features and another for latency related features\n",
        "# table_break_index = X.columns.get_loc(\"latency_time_ll_mean\")\n",
        "  \n",
        "# X_holdtime = X.iloc[: , 0:table_break_index]\n",
        "\n",
        "# X_latency = X.iloc[: , table_break_index:-1]\n"
      ],
      "execution_count": 0,
      "outputs": []
    },
    {
      "cell_type": "code",
      "metadata": {
        "id": "eQHjY_hvUGLQ",
        "colab_type": "code",
        "colab": {}
      },
      "source": [
        ""
      ],
      "execution_count": 0,
      "outputs": []
    },
    {
      "cell_type": "code",
      "metadata": {
        "id": "4sDFkeEDbcih",
        "colab_type": "code",
        "outputId": "47d36614-7a99-4ed5-aabe-7c695358a32e",
        "colab": {
          "base_uri": "https://localhost:8080/",
          "height": 103
        }
      },
      "source": [
        "#split datas\n",
        "from sklearn.model_selection import train_test_split\n",
        "\n",
        "X_train, X_test, y_train, y_test = train_test_split(X, y, test_size=0.2, random_state=RANDOM_SEED, stratify=y)\n",
        "\n",
        "print(\"X\", X_train.shape, X_test.shape, y_train.shape, y_test.shape)\n",
        "\n",
        "print(\"Parkinsons:\\n\", df['parkinsons'].value_counts())"
      ],
      "execution_count": 5,
      "outputs": [
        {
          "output_type": "stream",
          "text": [
            "X (67, 30) (17, 30) (67,) (17,)\n",
            "Parkinsons:\n",
            " True     43\n",
            "False    41\n",
            "Name: parkinsons, dtype: int64\n"
          ],
          "name": "stdout"
        }
      ]
    },
    {
      "cell_type": "code",
      "metadata": {
        "id": "PsU7L02BxJ9Z",
        "colab_type": "code",
        "colab": {}
      },
      "source": [
        ""
      ],
      "execution_count": 0,
      "outputs": []
    },
    {
      "cell_type": "code",
      "metadata": {
        "id": "6lyMQQCeLPfB",
        "colab_type": "code",
        "colab": {}
      },
      "source": [
        "# X_test_orig = X_test\n",
        "# y_test_orig = y_test"
      ],
      "execution_count": 0,
      "outputs": []
    },
    {
      "cell_type": "code",
      "metadata": {
        "id": "u1S_ZJALHM-Y",
        "colab_type": "code",
        "outputId": "777f1e8c-6067-41d4-cac5-bdc9eb8853c2",
        "colab": {
          "base_uri": "https://localhost:8080/",
          "height": 51
        }
      },
      "source": [
        "# See the breakdown of parkinson users\n",
        "print(\"y_train:\", y_train.shape, y_train.sum())\n",
        "print(\"y_test:\", y_test.shape, y_test.sum())"
      ],
      "execution_count": 7,
      "outputs": [
        {
          "output_type": "stream",
          "text": [
            "y_train: (67,) 34\n",
            "y_test: (17,) 9\n"
          ],
          "name": "stdout"
        }
      ]
    },
    {
      "cell_type": "code",
      "metadata": {
        "id": "v9bpSgwl7PYN",
        "colab_type": "code",
        "colab": {}
      },
      "source": [
        "\n",
        "# from collections import Counter\n",
        "# from imblearn.over_sampling import SMOTE # doctest: +NORMALIZE_WHITESPACE\n",
        "\n",
        "\n",
        "# sm = SMOTE()\n",
        "# X1_res, y1_res = sm.fit_resample(X_train, np.ravel(y_train))\n",
        "\n",
        "# print('Resampled dataset shape %s' % Counter(y1_res))\n",
        "\n",
        "# X_train = X1_res\n",
        "# y_train = y1_res\n",
        "\n",
        "# print(X_train.shape, y_train.shape)"
      ],
      "execution_count": 0,
      "outputs": []
    },
    {
      "cell_type": "code",
      "metadata": {
        "id": "f5eLQ8u0y0ax",
        "colab_type": "code",
        "outputId": "f0d29b3b-ac20-45da-c583-c9ed795f963c",
        "colab": {
          "base_uri": "https://localhost:8080/",
          "height": 252
        }
      },
      "source": [
        "X.head()"
      ],
      "execution_count": 9,
      "outputs": [
        {
          "output_type": "execute_result",
          "data": {
            "text/html": [
              "<div>\n",
              "<style scoped>\n",
              "    .dataframe tbody tr th:only-of-type {\n",
              "        vertical-align: middle;\n",
              "    }\n",
              "\n",
              "    .dataframe tbody tr th {\n",
              "        vertical-align: top;\n",
              "    }\n",
              "\n",
              "    .dataframe thead th {\n",
              "        text-align: right;\n",
              "    }\n",
              "</style>\n",
              "<table border=\"1\" class=\"dataframe\">\n",
              "  <thead>\n",
              "    <tr style=\"text-align: right;\">\n",
              "      <th></th>\n",
              "      <th>hold_time_l_mean</th>\n",
              "      <th>hold_time_r_mean</th>\n",
              "      <th>hold_time_l_std</th>\n",
              "      <th>hold_time_r_std</th>\n",
              "      <th>hold_time_l_skew</th>\n",
              "      <th>...</th>\n",
              "      <th>latency_time_rl_kurtosis</th>\n",
              "      <th>latency_time_ll_rr_diff</th>\n",
              "      <th>latency_time_lr_rl_diff</th>\n",
              "      <th>latency_time_ll_rr_diff_abs</th>\n",
              "      <th>latency_time_lr_rl_diff_abs</th>\n",
              "    </tr>\n",
              "  </thead>\n",
              "  <tbody>\n",
              "    <tr>\n",
              "      <th>0</th>\n",
              "      <td>98.931818</td>\n",
              "      <td>101.595749</td>\n",
              "      <td>23.869914</td>\n",
              "      <td>37.219557</td>\n",
              "      <td>0.236835</td>\n",
              "      <td>...</td>\n",
              "      <td>-0.917784</td>\n",
              "      <td>40.979771</td>\n",
              "      <td>-18.540793</td>\n",
              "      <td>40.979771</td>\n",
              "      <td>18.540793</td>\n",
              "    </tr>\n",
              "    <tr>\n",
              "      <th>1</th>\n",
              "      <td>153.702407</td>\n",
              "      <td>105.622423</td>\n",
              "      <td>53.213749</td>\n",
              "      <td>27.036622</td>\n",
              "      <td>0.264980</td>\n",
              "      <td>...</td>\n",
              "      <td>-0.709928</td>\n",
              "      <td>25.711714</td>\n",
              "      <td>2.742036</td>\n",
              "      <td>25.711714</td>\n",
              "      <td>2.742036</td>\n",
              "    </tr>\n",
              "    <tr>\n",
              "      <th>2</th>\n",
              "      <td>147.626087</td>\n",
              "      <td>167.039039</td>\n",
              "      <td>47.259923</td>\n",
              "      <td>56.045862</td>\n",
              "      <td>0.666778</td>\n",
              "      <td>...</td>\n",
              "      <td>-0.844957</td>\n",
              "      <td>34.890816</td>\n",
              "      <td>74.204668</td>\n",
              "      <td>34.890816</td>\n",
              "      <td>74.204668</td>\n",
              "    </tr>\n",
              "    <tr>\n",
              "      <th>3</th>\n",
              "      <td>125.093648</td>\n",
              "      <td>125.944823</td>\n",
              "      <td>21.344768</td>\n",
              "      <td>20.440962</td>\n",
              "      <td>0.433463</td>\n",
              "      <td>...</td>\n",
              "      <td>-0.929236</td>\n",
              "      <td>-32.314242</td>\n",
              "      <td>14.221029</td>\n",
              "      <td>32.314242</td>\n",
              "      <td>14.221029</td>\n",
              "    </tr>\n",
              "    <tr>\n",
              "      <th>4</th>\n",
              "      <td>186.434423</td>\n",
              "      <td>141.827793</td>\n",
              "      <td>61.740463</td>\n",
              "      <td>43.035236</td>\n",
              "      <td>0.428770</td>\n",
              "      <td>...</td>\n",
              "      <td>1.710421</td>\n",
              "      <td>-4.639493</td>\n",
              "      <td>-75.820623</td>\n",
              "      <td>4.639493</td>\n",
              "      <td>75.820623</td>\n",
              "    </tr>\n",
              "  </tbody>\n",
              "</table>\n",
              "<p>5 rows × 30 columns</p>\n",
              "</div>"
            ],
            "text/plain": [
              "   hold_time_l_mean  hold_time_r_mean  hold_time_l_std  hold_time_r_std  \\\n",
              "0         98.931818        101.595749        23.869914        37.219557   \n",
              "1        153.702407        105.622423        53.213749        27.036622   \n",
              "2        147.626087        167.039039        47.259923        56.045862   \n",
              "3        125.093648        125.944823        21.344768        20.440962   \n",
              "4        186.434423        141.827793        61.740463        43.035236   \n",
              "\n",
              "   hold_time_l_skew  ...  latency_time_rl_kurtosis  latency_time_ll_rr_diff  \\\n",
              "0          0.236835  ...                 -0.917784                40.979771   \n",
              "1          0.264980  ...                 -0.709928                25.711714   \n",
              "2          0.666778  ...                 -0.844957                34.890816   \n",
              "3          0.433463  ...                 -0.929236               -32.314242   \n",
              "4          0.428770  ...                  1.710421                -4.639493   \n",
              "\n",
              "   latency_time_lr_rl_diff  latency_time_ll_rr_diff_abs  \\\n",
              "0               -18.540793                    40.979771   \n",
              "1                 2.742036                    25.711714   \n",
              "2                74.204668                    34.890816   \n",
              "3                14.221029                    32.314242   \n",
              "4               -75.820623                     4.639493   \n",
              "\n",
              "   latency_time_lr_rl_diff_abs  \n",
              "0                    18.540793  \n",
              "1                     2.742036  \n",
              "2                    74.204668  \n",
              "3                    14.221029  \n",
              "4                    75.820623  \n",
              "\n",
              "[5 rows x 30 columns]"
            ]
          },
          "metadata": {
            "tags": []
          },
          "execution_count": 9
        }
      ]
    },
    {
      "cell_type": "code",
      "metadata": {
        "id": "MU8pJUXxccBM",
        "colab_type": "code",
        "colab": {
          "base_uri": "https://localhost:8080/",
          "height": 34
        },
        "outputId": "6f3f00ec-38d2-4ac5-8702-051a09f2c60a"
      },
      "source": [
        "# import numpy as np\n",
        "from sklearn.preprocessing import PolynomialFeatures\n",
        "\n",
        "\n",
        "# use degree=2 as it is the best between no poly and degree=3\n",
        "poly_X = PolynomialFeatures(1)\n",
        "X_train = poly_X.fit_transform(X_train)\n",
        "X_test  = poly_X.transform(X_test)\n",
        "#X_test_orig  = poly_X.transform(X_test_orig)\n",
        "\n",
        "\n",
        "print(\"X\", X_train.shape, X_test.shape, y_train.shape, y_test.shape)\n"
      ],
      "execution_count": 10,
      "outputs": [
        {
          "output_type": "stream",
          "text": [
            "X (67, 31) (17, 31) (67,) (17,)\n"
          ],
          "name": "stdout"
        }
      ]
    },
    {
      "cell_type": "code",
      "metadata": {
        "id": "71XOSqHvneND",
        "colab_type": "code",
        "outputId": "966049d5-dd5f-46d2-9a80-a365e32dbfa1",
        "colab": {
          "base_uri": "https://localhost:8080/",
          "height": 34
        }
      },
      "source": [
        "# Scale the training set\n",
        "from sklearn.preprocessing import StandardScaler\n",
        "from sklearn.preprocessing import normalize, Normalizer\n",
        "\n",
        "def running_scaler(X_tr, X_te):\n",
        "  \n",
        "  #scaler = StandardScaler()\n",
        "  scaler = Normalizer()\n",
        "  \n",
        "  scaler.fit(X_tr)\n",
        "\n",
        "  X_train_sc = scaler.transform(X_tr)\n",
        "  X_test_sc = scaler.transform(X_te)\n",
        "  \n",
        "  print(X_train_sc.shape, X_test_sc.shape) \n",
        "\n",
        "  return X_train_sc, X_test_sc\n",
        "\n",
        "\n",
        "X_train, X_test = running_scaler(X_train, X_test)\n",
        "\n",
        "\n",
        "\n",
        "\n",
        "\n"
      ],
      "execution_count": 11,
      "outputs": [
        {
          "output_type": "stream",
          "text": [
            "(67, 31) (17, 31)\n"
          ],
          "name": "stdout"
        }
      ]
    },
    {
      "cell_type": "markdown",
      "metadata": {
        "id": "vdnQowCYz6xs",
        "colab_type": "text"
      },
      "source": [
        ""
      ]
    },
    {
      "cell_type": "code",
      "metadata": {
        "id": "WEFi5H9T_ika",
        "colab_type": "code",
        "colab": {}
      },
      "source": [
        "import numpy as np\n",
        "\n",
        "from sklearn.metrics import f1_score, accuracy_score, confusion_matrix, classification_report, roc_auc_score, precision_score, recall_score\n",
        "\n",
        "\n",
        "def print_metrics(name_str, y_true, y_pred):\n",
        "  print(\"  ====\", name_str, \"===============\")\n",
        "  conf_m = confusion_matrix(y_true, y_pred)\n",
        "  tn, fp, fn, tp = conf_m.ravel()\n",
        "  print(conf_m)\n",
        "  #print(classification_report(y_true, y_pred, labels=None))\n",
        "  #print(precision_recall_fscore_support(y_true, y_pred))\n",
        "\n",
        "  #Specificity = TN/(TN + FP) \n",
        "  specificity = tn/(tn+fp)\n",
        " \n",
        "  print(\"\\nf1:          {0:12.6f}, \"\n",
        "        \"\\nprecision:   {1:12.6f}, \"\n",
        "        \"\\nrecall:      {2:12.6f}, \"\n",
        "        \"\\nAccuracy:    {3:12.6f}, \"\n",
        "        \"\\nAuc:         {4:12.6f}  \"\n",
        "        \"\\nSpecificity: {5:12.6f}  \".format(\n",
        "          f1_score(y_true, y_pred),\n",
        "          precision_score(y_true, y_pred),\n",
        "          recall_score(y_true, y_pred),\n",
        "          accuracy_score(y_true, y_pred),\n",
        "          roc_auc_score(y_true, y_pred),\n",
        "          specificity)) \n"
      ],
      "execution_count": 0,
      "outputs": []
    },
    {
      "cell_type": "code",
      "metadata": {
        "id": "Fg0jLCWUdEcU",
        "colab_type": "code",
        "colab": {}
      },
      "source": [
        "from sklearn.ensemble import VotingClassifier\n",
        "\n",
        "def voting_results(dataset_name, X_tr, X_te, y_tr, y_te, list_of_classifier=[]):\n",
        "  \n",
        "  voting_option = ['hard', 'soft']\n",
        "\n",
        "  #print(\"-------- \", dataset_name )\n",
        "  for option in voting_option:\n",
        "    eclf_1 = VotingClassifier(estimators=list_of_classifier, voting=option)\n",
        "\n",
        "    eclf_1 = eclf_1.fit(X_tr, y_tr)\n",
        "\n",
        "    print(\"=== Using Voting:\", option)\n",
        "\n",
        "    print_metrics(\"X_train (\"+ option + \")\", y_tr, eclf_1.predict(X_tr))\n",
        "\n",
        "    print_metrics(\"X_test (\"+ option + \")\" , y_te, eclf_1.predict(X_te))\n",
        "    \n",
        "    \n",
        "#voting_results(\"All features\", X_train, X_test, y_train, y_test, list_of_all_features_classifier)  "
      ],
      "execution_count": 0,
      "outputs": []
    },
    {
      "cell_type": "code",
      "metadata": {
        "id": "yPmDcqbd8PMh",
        "colab_type": "code",
        "outputId": "b197b923-09a8-437f-925f-8b1bb96f66bc",
        "colab": {
          "base_uri": "https://localhost:8080/",
          "height": 362
        }
      },
      "source": [
        "from sklearn.neighbors import KNeighborsClassifier\n",
        "from sklearn.model_selection import cross_val_score\n",
        "from sklearn.tree import DecisionTreeClassifier\n",
        "from sklearn.ensemble import RandomForestClassifier\n",
        "from sklearn.linear_model import LogisticRegression\n",
        "from sklearn.ensemble import AdaBoostClassifier\n",
        "from xgboost import XGBClassifier\n",
        "\n",
        "knn = KNeighborsClassifier()\n",
        "print(\"KNeighborsClassifier Train score:\\n\", cross_val_score(knn, X_train, y_train, scoring=SCORING_METRICS, cv=CV_COUNT)) \n",
        "knn.fit(X_train, y_train)\n",
        "# knn_pred_parkinsons = knn.predict(X_test)\n",
        "# print_metrics(\"KNN\", y_test1, knn_pred_parkinsons)\n",
        "\n",
        "dt_clf = DecisionTreeClassifier(random_state=RANDOM_SEED)\n",
        "print(\"\\nDecisionTreeClassifier Train score:\\n\", cross_val_score(dt_clf, X_train, y_train, scoring=SCORING_METRICS, cv=CV_COUNT)) \n",
        "dt_clf.fit(X_train, y_train)\n",
        "# dt_pred_parkinsons = dt_clf.predict(X_test)\n",
        "# print_metrics(\"Decision Tree\", y_test, dt_pred_parkinsons)\n",
        "\n",
        "rf_clf = RandomForestClassifier(n_estimators=100, random_state=RANDOM_SEED)\n",
        "print(\"\\nRandomForestClassifier Train score:\\n\", cross_val_score(rf_clf, X_train, y_train,  scoring=SCORING_METRICS, cv=CV_COUNT)) \n",
        "rf_clf.fit(X_train, y_train)\n",
        "# rf_pred_parkinsons = rf_clf.predict(X_test)\n",
        "# print_metrics(\"Random Forest\", y_test, rf_pred_parkinsons)\n",
        "\n",
        "lr_clf = LogisticRegression(solver='lbfgs', max_iter=1000, random_state=RANDOM_SEED)\n",
        "print(\"\\nLogisticRegression Train score:\\n\", cross_val_score(lr_clf, X_train, y_train,  scoring=SCORING_METRICS, cv=CV_COUNT)) \n",
        "lr_clf.fit(X_train, y_train)\n",
        "# lr_pred_parkinsons = lr_clf.predict(X_test)\n",
        "# print_metrics(\"Logistic Regression\", y_test, lr_pred_parkinsons)\n",
        "\n",
        "from sklearn.svm import SVC\n",
        "svc_clf = SVC(gamma=\"auto\", random_state=RANDOM_SEED)\n",
        "print(\"\\nSVC Train score:\\n\", cross_val_score(svc_clf, X_train, y_train,  scoring=SCORING_METRICS, cv=CV_COUNT)) \n",
        "svc_clf.fit(X_train, y_train)\n",
        "# svc_pred_parkinsons = svc_clf.predict(X_test)\n",
        "# print_metrics(\"SVM\", y_test, svc_pred_parkinsons)\n",
        "\n",
        "ada_clf = AdaBoostClassifier(random_state=RANDOM_SEED)\n",
        "print(\"\\nAdaBoostClassifier Train score:\\n\", cross_val_score(ada_clf, X_train, y_train,  scoring=SCORING_METRICS, cv=CV_COUNT)) \n",
        "ignored = ada_clf.fit(X_train, y_train)\n",
        "#ada_pred_parkinsons = ada_clf.predict(X_test)\n",
        "#print_metrics(\"Adaboost\", y_test, ada_pred_parkinsons)\n",
        "\n",
        "\n",
        "from xgboost import XGBClassifier\n",
        "xgb_clf = XGBClassifier(random_state=RANDOM_SEED)\n",
        "print(\"\\nXGBClassifier Train score:\\n\", cross_val_score(xgb_clf, X_train, y_train,  scoring=SCORING_METRICS, cv=CV_COUNT)) \n",
        "ignored = xgb_clf.fit(X_train, y_train)\n",
        "#xgb_pred_parkinsons = ada_clf.predict(X_test)\n",
        "#print_metrics(\"xgboost\", y_test, xgb_pred_parkinsons)\n"
      ],
      "execution_count": 14,
      "outputs": [
        {
          "output_type": "stream",
          "text": [
            "KNeighborsClassifier Train score:\n",
            " [0.21428571 0.42857143 0.57142857 0.46153846 0.58333333]\n",
            "\n",
            "DecisionTreeClassifier Train score:\n",
            " [0.35714286 0.57142857 0.57142857 0.46153846 0.58333333]\n",
            "\n",
            "RandomForestClassifier Train score:\n",
            " [0.42857143 0.57142857 0.64285714 0.53846154 0.66666667]\n",
            "\n",
            "LogisticRegression Train score:\n",
            " [0.35714286 0.42857143 0.57142857 0.61538462 0.66666667]\n",
            "\n",
            "SVC Train score:\n",
            " [0.5        0.5        0.5        0.61538462 0.5       ]\n",
            "\n",
            "AdaBoostClassifier Train score:\n",
            " [0.28571429 0.5        0.71428571 0.53846154 0.66666667]\n",
            "\n",
            "XGBClassifier Train score:\n",
            " [0.5        0.5        0.64285714 0.61538462 0.58333333]\n"
          ],
          "name": "stdout"
        }
      ]
    },
    {
      "cell_type": "code",
      "metadata": {
        "id": "C9A5FSft_8NE",
        "colab_type": "code",
        "colab": {}
      },
      "source": [
        ""
      ],
      "execution_count": 0,
      "outputs": []
    },
    {
      "cell_type": "code",
      "metadata": {
        "id": "Ts5LB7Og-65_",
        "colab_type": "code",
        "colab": {}
      },
      "source": [
        ""
      ],
      "execution_count": 0,
      "outputs": []
    },
    {
      "cell_type": "markdown",
      "metadata": {
        "id": "PwSQ8c96K5Un",
        "colab_type": "text"
      },
      "source": [
        "\n"
      ]
    },
    {
      "cell_type": "code",
      "metadata": {
        "id": "jKoq_PvfLhiF",
        "colab_type": "code",
        "outputId": "2b763741-7db1-4c89-d3d0-d567beb2b6d2",
        "colab": {
          "base_uri": "https://localhost:8080/",
          "height": 1000
        }
      },
      "source": [
        "X_test1 = X_test\n",
        "y_test1 = y_test\n",
        "\n",
        "print(\"Before any tuning, test scores:\")\n",
        "print(X_test1.shape, y_test1.shape)\n",
        "\n",
        "#y_always_false = np.zeros(y_test.shape)\n",
        "y_always_true = np.ones(y_test1.shape)\n",
        "#y_always_false[0] = True # just to make f1 value\n",
        "print_metrics(\"Always true\", y_test1, y_always_true)\n",
        "#print_metrics(\"Always false\", y_test, y_always_false)\n",
        "\n",
        "knn_pred_parkinsons = knn.predict(X_test1)\n",
        "print_metrics(\"KNN\", y_test1, knn_pred_parkinsons)\n",
        "\n",
        "rf_pred_parkinsons = rf_clf.predict(X_test1)\n",
        "print_metrics(\"Random Forest\", y_test1, rf_pred_parkinsons)\n",
        "\n",
        "dt_pred_parkinsons = dt_clf.predict(X_test1)\n",
        "print_metrics(\"Decision Tree\", y_test1, dt_pred_parkinsons)\n",
        "\n",
        "lr_pred_parkinsons = lr_clf.predict(X_test1)\n",
        "print_metrics(\"Logistic Regression\", y_test1, lr_pred_parkinsons)\n",
        "\n",
        "svc_pred_parkinsons = svc_clf.predict(X_test1)\n",
        "print_metrics(\"SVC\", y_test1, svc_pred_parkinsons)\n",
        "\n",
        "ada_pred_parkinsons = ada_clf.predict(X_test1)\n",
        "print_metrics(\"Adaboost\", y_test1, ada_pred_parkinsons)\n",
        "\n",
        "xgb_pred_parkinsons = ada_clf.predict(X_test1)\n",
        "print_metrics(\"xgboost\", y_test1, xgb_pred_parkinsons)"
      ],
      "execution_count": 15,
      "outputs": [
        {
          "output_type": "stream",
          "text": [
            "Before any tuning, test scores:\n",
            "(17, 31) (17,)\n",
            "  ==== Always true ===============\n",
            "[[0 8]\n",
            " [0 9]]\n",
            "\n",
            "f1:              0.692308, \n",
            "precision:       0.529412, \n",
            "recall:          1.000000, \n",
            "Accuracy:        0.529412, \n",
            "Auc:             0.500000  \n",
            "Specificity:     0.000000  \n",
            "  ==== KNN ===============\n",
            "[[4 4]\n",
            " [3 6]]\n",
            "\n",
            "f1:              0.631579, \n",
            "precision:       0.600000, \n",
            "recall:          0.666667, \n",
            "Accuracy:        0.588235, \n",
            "Auc:             0.583333  \n",
            "Specificity:     0.500000  \n",
            "  ==== Random Forest ===============\n",
            "[[4 4]\n",
            " [1 8]]\n",
            "\n",
            "f1:              0.761905, \n",
            "precision:       0.666667, \n",
            "recall:          0.888889, \n",
            "Accuracy:        0.705882, \n",
            "Auc:             0.694444  \n",
            "Specificity:     0.500000  \n",
            "  ==== Decision Tree ===============\n",
            "[[6 2]\n",
            " [4 5]]\n",
            "\n",
            "f1:              0.625000, \n",
            "precision:       0.714286, \n",
            "recall:          0.555556, \n",
            "Accuracy:        0.647059, \n",
            "Auc:             0.652778  \n",
            "Specificity:     0.750000  \n",
            "  ==== Logistic Regression ===============\n",
            "[[3 5]\n",
            " [1 8]]\n",
            "\n",
            "f1:              0.727273, \n",
            "precision:       0.615385, \n",
            "recall:          0.888889, \n",
            "Accuracy:        0.647059, \n",
            "Auc:             0.631944  \n",
            "Specificity:     0.375000  \n",
            "  ==== SVC ===============\n",
            "[[0 8]\n",
            " [0 9]]\n",
            "\n",
            "f1:              0.692308, \n",
            "precision:       0.529412, \n",
            "recall:          1.000000, \n",
            "Accuracy:        0.529412, \n",
            "Auc:             0.500000  \n",
            "Specificity:     0.000000  \n",
            "  ==== Adaboost ===============\n",
            "[[6 2]\n",
            " [3 6]]\n",
            "\n",
            "f1:              0.705882, \n",
            "precision:       0.750000, \n",
            "recall:          0.666667, \n",
            "Accuracy:        0.705882, \n",
            "Auc:             0.708333  \n",
            "Specificity:     0.750000  \n",
            "  ==== xgboost ===============\n",
            "[[6 2]\n",
            " [3 6]]\n",
            "\n",
            "f1:              0.705882, \n",
            "precision:       0.750000, \n",
            "recall:          0.666667, \n",
            "Accuracy:        0.705882, \n",
            "Auc:             0.708333  \n",
            "Specificity:     0.750000  \n"
          ],
          "name": "stdout"
        }
      ]
    },
    {
      "cell_type": "code",
      "metadata": {
        "id": "YW0HceDJGp5d",
        "colab_type": "code",
        "cellView": "form",
        "colab": {}
      },
      "source": [
        "#@title\n",
        "# # testing Orig y_test\n",
        "# #X_test = X1_res\n",
        "# #y_test = y1_res\n",
        "# X_test1 = X_test_orig\n",
        "# y_test1 = y_test_orig\n",
        "\n",
        "# print(X_test1.shape, y_test1.shape)\n",
        "\n",
        "# #y_always_false = np.zeros(y_test.shape)\n",
        "# y_always_true = np.ones(y_test1.shape)\n",
        "# #y_always_false[0] = True # just to make f1 value\n",
        "# print_metrics(\"Always true\", y_test1, y_always_true)\n",
        "# #print_metrics(\"Always false\", y_test, y_always_false)\n",
        "\n",
        "# knn_pred_parkinsons = knn.predict(X_test1)\n",
        "# print_metrics(\"KNN\", y_test1, knn_pred_parkinsons)\n",
        "\n",
        "# rf_pred_parkinsons = rf_clf.predict(X_test1)\n",
        "# print_metrics(\"Random Forest\", y_test1, rf_pred_parkinsons)\n",
        "\n",
        "# dt_pred_parkinsons = dt_clf.predict(X_test1)\n",
        "# print_metrics(\"Decision Tree\", y_test1, dt_pred_parkinsons)\n",
        "\n",
        "# lr_pred_parkinsons = lr_clf.predict(X_test1)\n",
        "# print_metrics(\"Logistic Regression\", y_test1, lr_pred_parkinsons)\n",
        "\n",
        "# svm_pred_parkinsons = svm_clf.predict(X_test1)\n",
        "# print_metrics(\"SVM\", y_test1, svm_pred_parkinsons)\n"
      ],
      "execution_count": 0,
      "outputs": []
    },
    {
      "cell_type": "markdown",
      "metadata": {
        "id": "1C0o_-2GMPuQ",
        "colab_type": "text"
      },
      "source": [
        ""
      ]
    },
    {
      "cell_type": "markdown",
      "metadata": {
        "id": "XM8vQt3jhpkQ",
        "colab_type": "text"
      },
      "source": [
        "## Using grid search to fine tune models "
      ]
    },
    {
      "cell_type": "markdown",
      "metadata": {
        "id": "GbIpG5FtmB5F",
        "colab_type": "text"
      },
      "source": [
        "### Fine tune SVC"
      ]
    },
    {
      "cell_type": "code",
      "metadata": {
        "id": "84ZB8DGzhCr2",
        "colab_type": "code",
        "outputId": "69f0dc57-1a16-4894-fdd1-0a4ab0d9aed2",
        "colab": {
          "base_uri": "https://localhost:8080/",
          "height": 157
        }
      },
      "source": [
        "from sklearn.model_selection import GridSearchCV\n",
        "\n",
        "svc_clf = SVC(random_state=RANDOM_SEED)\n",
        "\n",
        "param_grid1 = {\n",
        "              'C' : [0.01, 0.1, 0.5, 1, 10, 20, 50, 100, 1000],  \n",
        "              'decision_function_shape': ['ovo', 'ovr'],\n",
        "              'gamma': ['auto', 'scale'],\n",
        "              'kernel' : ['poly', 'rbf'],\n",
        "              'degree' : [2, 3], \n",
        "              'probability' :[True, False]  }\n",
        "\n",
        "\n",
        "grid_search = GridSearchCV(svc_clf, param_grid =param_grid1, cv=CV_COUNT, scoring=SCORING_METRICS)\n",
        "grid_search.fit(X_train,  y_train)\n",
        "\n",
        "#print(ramdomgrid_search)\n",
        "# summarize the results of the random parameter search\n",
        "print(grid_search.best_score_)\n",
        "print(grid_search.best_estimator_)\n",
        "\n"
      ],
      "execution_count": 16,
      "outputs": [
        {
          "output_type": "stream",
          "text": [
            "0.5970149253731343\n",
            "SVC(C=100, cache_size=200, class_weight=None, coef0=0.0,\n",
            "    decision_function_shape='ovo', degree=3, gamma='scale', kernel='poly',\n",
            "    max_iter=-1, probability=True, random_state=1, shrinking=True, tol=0.001,\n",
            "    verbose=False)\n"
          ],
          "name": "stdout"
        },
        {
          "output_type": "stream",
          "text": [
            "/usr/local/lib/python3.6/dist-packages/sklearn/model_selection/_search.py:814: DeprecationWarning: The default of the `iid` parameter will change from True to False in version 0.22 and will be removed in 0.24. This will change numeric results when test-set sizes are unequal.\n",
            "  DeprecationWarning)\n"
          ],
          "name": "stderr"
        }
      ]
    },
    {
      "cell_type": "code",
      "metadata": {
        "id": "uIh_D8jThnOW",
        "colab_type": "code",
        "outputId": "97f138de-99cf-4fc0-ac70-bb7a4ab683b1",
        "colab": {
          "base_uri": "https://localhost:8080/",
          "height": 207
        }
      },
      "source": [
        "# use the best parameter found\n",
        "svc_clf = SVC(C=100, cache_size=200, class_weight=None, coef0=0.0,\n",
        "    decision_function_shape='ovo', degree=3, gamma='scale', kernel='poly',\n",
        "    max_iter=-1, probability=True, random_state=1, shrinking=True, tol=0.001,\n",
        "    verbose=False)\n",
        "\n",
        "print(\"Train score:\", cross_val_score(svc_clf, X_train, y_train,  scoring=SCORING_METRICS, cv=CV_COUNT)) \n",
        "\n",
        "svc_clf.fit(X_train, y_train)\n",
        "\n",
        "svc_pred_parkinsons = svc_clf.predict(X_test)\n",
        "print_metrics(\"SVC\", y_test, svc_pred_parkinsons)"
      ],
      "execution_count": 36,
      "outputs": [
        {
          "output_type": "stream",
          "text": [
            "Train score: [0.5        0.42857143 0.71428571 0.53846154 0.83333333]\n",
            "  ==== SVC ===============\n",
            "[[4 4]\n",
            " [4 5]]\n",
            "\n",
            "f1:              0.555556, \n",
            "precision:       0.555556, \n",
            "recall:          0.555556, \n",
            "Accuracy:        0.529412, \n",
            "Auc:             0.527778  \n",
            "Specificity:     0.500000  \n"
          ],
          "name": "stdout"
        }
      ]
    },
    {
      "cell_type": "markdown",
      "metadata": {
        "id": "Sk8vOsTlmGOG",
        "colab_type": "text"
      },
      "source": [
        "###  Fine tune Decision Tree"
      ]
    },
    {
      "cell_type": "code",
      "metadata": {
        "id": "oB2tuoYgh8Am",
        "colab_type": "code",
        "outputId": "808c4408-bdae-48d4-db05-15090d940222",
        "colab": {
          "base_uri": "https://localhost:8080/",
          "height": 192
        }
      },
      "source": [
        "# Fine tune decision tree\n",
        "from sklearn.model_selection import GridSearchCV\n",
        "from sklearn.tree import DecisionTreeClassifier\n",
        "\n",
        "dt_clf =  DecisionTreeClassifier(random_state=RANDOM_SEED)\n",
        "\n",
        "param_grid1 = { \n",
        "              'criterion' : ['gini', 'entropy'],  \n",
        "              'max_depth': [2, 3, 7],\n",
        "              'splitter' : ['best', 'random'],\n",
        "              'min_samples_split': [2]\n",
        "}\n",
        "\n",
        "\n",
        "grid_search = GridSearchCV(dt_clf, param_grid =param_grid1, cv=CV_COUNT, scoring=SCORING_METRICS)\n",
        "grid_search.fit(X_train, y_train)\n",
        "\n",
        "#print(ramdomgrid_search)\n",
        "# summarize the results of the random parameter search\n",
        "print(grid_search.best_score_)\n",
        "print(grid_search.best_estimator_)"
      ],
      "execution_count": 18,
      "outputs": [
        {
          "output_type": "stream",
          "text": [
            "0.5671641791044776\n",
            "DecisionTreeClassifier(class_weight=None, criterion='gini', max_depth=3,\n",
            "                       max_features=None, max_leaf_nodes=None,\n",
            "                       min_impurity_decrease=0.0, min_impurity_split=None,\n",
            "                       min_samples_leaf=1, min_samples_split=2,\n",
            "                       min_weight_fraction_leaf=0.0, presort=False,\n",
            "                       random_state=1, splitter='best')\n"
          ],
          "name": "stdout"
        },
        {
          "output_type": "stream",
          "text": [
            "/usr/local/lib/python3.6/dist-packages/sklearn/model_selection/_search.py:814: DeprecationWarning: The default of the `iid` parameter will change from True to False in version 0.22 and will be removed in 0.24. This will change numeric results when test-set sizes are unequal.\n",
            "  DeprecationWarning)\n"
          ],
          "name": "stderr"
        }
      ]
    },
    {
      "cell_type": "code",
      "metadata": {
        "id": "DQ8sJ2hyiDnl",
        "colab_type": "code",
        "outputId": "c6c5d824-2d51-4b09-fa5a-281a796cfbf9",
        "colab": {
          "base_uri": "https://localhost:8080/",
          "height": 207
        }
      },
      "source": [
        "\n",
        "\n",
        "dt_clf =DecisionTreeClassifier(class_weight=None, criterion='gini', max_depth=3,\n",
        "                       max_features=None, max_leaf_nodes=None,\n",
        "                       min_impurity_decrease=0.0, min_impurity_split=None,\n",
        "                       min_samples_leaf=1, min_samples_split=2,\n",
        "                       min_weight_fraction_leaf=0.0, presort=False,\n",
        "                       random_state=1, splitter='best')\n",
        "\n",
        "\n",
        "print(\"Train score:\", cross_val_score(dt_clf, X_train, y_train,  scoring=SCORING_METRICS, cv=CV_COUNT)) \n",
        "\n",
        "\n",
        "dt_clf.fit(X_train, y_train)\n",
        "\n",
        "dt_pred_parkinsons = dt_clf.predict(X_test)\n",
        "print_metrics(\"Decision Tree\", y_test, dt_pred_parkinsons)"
      ],
      "execution_count": 37,
      "outputs": [
        {
          "output_type": "stream",
          "text": [
            "Train score: [0.57142857 0.64285714 0.57142857 0.46153846 0.58333333]\n",
            "  ==== Decision Tree ===============\n",
            "[[5 3]\n",
            " [4 5]]\n",
            "\n",
            "f1:              0.588235, \n",
            "precision:       0.625000, \n",
            "recall:          0.555556, \n",
            "Accuracy:        0.588235, \n",
            "Auc:             0.590278  \n",
            "Specificity:     0.625000  \n"
          ],
          "name": "stdout"
        }
      ]
    },
    {
      "cell_type": "markdown",
      "metadata": {
        "id": "c-EmEWGUiNuF",
        "colab_type": "text"
      },
      "source": [
        "## Fine tune GradientBoostingClassifier\n"
      ]
    },
    {
      "cell_type": "code",
      "metadata": {
        "id": "iA_-8JBWiNFN",
        "colab_type": "code",
        "colab": {
          "base_uri": "https://localhost:8080/",
          "height": 244
        },
        "outputId": "b10c8e42-ed12-406f-dc02-e4669ba4843b"
      },
      "source": [
        "from sklearn.ensemble import GradientBoostingClassifier\n",
        "\n",
        "param_grid1 = {\n",
        "      'loss': ['deviance', 'exponential'],\n",
        "      'learning_rate':     [0.1, 1, 5, 10],\n",
        "      'n_estimators' : [100],\n",
        "      'criterion' : ['friedman_mse'],\n",
        "      'max_depth' : [3, 5, 7, 9],\n",
        "      'max_features' :['sqrt']\n",
        "} \n",
        "\n",
        "gfb_clf = GradientBoostingClassifier(random_state=RANDOM_SEED)\n",
        "\n",
        "grid_search = GridSearchCV(gfb_clf, param_grid =param_grid1, cv=CV_COUNT, scoring=SCORING_METRICS)\n",
        "grid_search.fit(X_train, y_train)\n",
        "\n",
        "#print(ramdomgrid_search)\n",
        "# summarize the results of the random parameter search\n",
        "print(grid_search.best_score_)\n",
        "print(grid_search.best_estimator_)\n"
      ],
      "execution_count": 50,
      "outputs": [
        {
          "output_type": "stream",
          "text": [
            "0.6268656716417911\n",
            "GradientBoostingClassifier(criterion='friedman_mse', init=None, learning_rate=5,\n",
            "                           loss='exponential', max_depth=9, max_features='sqrt',\n",
            "                           max_leaf_nodes=None, min_impurity_decrease=0.0,\n",
            "                           min_impurity_split=None, min_samples_leaf=1,\n",
            "                           min_samples_split=2, min_weight_fraction_leaf=0.0,\n",
            "                           n_estimators=100, n_iter_no_change=None,\n",
            "                           presort='auto', random_state=1, subsample=1.0,\n",
            "                           tol=0.0001, validation_fraction=0.1, verbose=0,\n",
            "                           warm_start=False)\n"
          ],
          "name": "stdout"
        },
        {
          "output_type": "stream",
          "text": [
            "/usr/local/lib/python3.6/dist-packages/sklearn/model_selection/_search.py:814: DeprecationWarning: The default of the `iid` parameter will change from True to False in version 0.22 and will be removed in 0.24. This will change numeric results when test-set sizes are unequal.\n",
            "  DeprecationWarning)\n"
          ],
          "name": "stderr"
        }
      ]
    },
    {
      "cell_type": "code",
      "metadata": {
        "id": "8pPjDxOCjE2H",
        "colab_type": "code",
        "colab": {
          "base_uri": "https://localhost:8080/",
          "height": 207
        },
        "outputId": "8b2a8cdb-4478-4e72-dac5-0de4bc7411ce"
      },
      "source": [
        "grb_clf = GradientBoostingClassifier(criterion='friedman_mse', init=None, learning_rate=5,\n",
        "                           loss='exponential', max_depth=9, max_features='sqrt',\n",
        "                           max_leaf_nodes=None, min_impurity_decrease=0.0,\n",
        "                           min_impurity_split=None, min_samples_leaf=1,\n",
        "                           min_samples_split=2, min_weight_fraction_leaf=0.0,\n",
        "                           n_estimators=100, n_iter_no_change=None,\n",
        "                           presort='auto', random_state=1, subsample=1.0,\n",
        "                           tol=0.0001, validation_fraction=0.1, verbose=0,\n",
        "                           warm_start=False)\n",
        "\n",
        "print(\"Train score:\", cross_val_score(grb_clf, X_train, y_train,  scoring=SCORING_METRICS, cv=CV_COUNT)) \n",
        "\n",
        "grb_clf.fit(X_train, y_train)\n",
        "\n",
        "\n",
        "grb_pred_parkinsons = grb_clf.predict(X_test)\n",
        "\n",
        "print_metrics(\"grb_clf\", y_test, grb_pred_parkinsons)"
      ],
      "execution_count": 51,
      "outputs": [
        {
          "output_type": "stream",
          "text": [
            "Train score: [0.64285714 0.57142857 0.64285714 0.53846154 0.75      ]\n",
            "  ==== grb_clf ===============\n",
            "[[7 1]\n",
            " [4 5]]\n",
            "\n",
            "f1:              0.666667, \n",
            "precision:       0.833333, \n",
            "recall:          0.555556, \n",
            "Accuracy:        0.705882, \n",
            "Auc:             0.715278  \n",
            "Specificity:     0.875000  \n"
          ],
          "name": "stdout"
        }
      ]
    },
    {
      "cell_type": "markdown",
      "metadata": {
        "id": "-t99UvPh2v0G",
        "colab_type": "text"
      },
      "source": [
        "### Fine tune KNN"
      ]
    },
    {
      "cell_type": "code",
      "metadata": {
        "id": "HyWKHfR22z-B",
        "colab_type": "code",
        "outputId": "cf261d3d-48fe-4d65-ffee-b57f516ec9df",
        "colab": {
          "base_uri": "https://localhost:8080/",
          "height": 140
        }
      },
      "source": [
        "# Fine tune decision tree\n",
        "from sklearn.model_selection import GridSearchCV\n",
        "\n",
        "knn = KNeighborsClassifier()\n",
        "\n",
        "param_grid1 = {\n",
        "              'algorithm' : ['auto', 'ball_tree', 'kd_tree', 'brute'],\n",
        "              'n_neighbors': [2, 3, 4, 5, 7],\n",
        "              'p': [1, 2, 3],\n",
        "              'leaf_size' : [2, 3, 4, 5], \n",
        "              'weights' : ['uniform', 'distance']\n",
        "} \n",
        "\n",
        "\n",
        "grid_search = GridSearchCV(knn, param_grid =param_grid1, cv=CV_COUNT, scoring=SCORING_METRICS)\n",
        "grid_search.fit(X_train, y_train)\n",
        "\n",
        "#print(ramdomgrid_search)\n",
        "# summarize the results of the random parameter search\n",
        "print(grid_search.best_score_)\n",
        "print(grid_search.best_estimator_)"
      ],
      "execution_count": 20,
      "outputs": [
        {
          "output_type": "stream",
          "text": [
            "0.6268656716417911\n",
            "KNeighborsClassifier(algorithm='auto', leaf_size=2, metric='minkowski',\n",
            "                     metric_params=None, n_jobs=None, n_neighbors=4, p=1,\n",
            "                     weights='distance')\n"
          ],
          "name": "stdout"
        },
        {
          "output_type": "stream",
          "text": [
            "/usr/local/lib/python3.6/dist-packages/sklearn/model_selection/_search.py:814: DeprecationWarning: The default of the `iid` parameter will change from True to False in version 0.22 and will be removed in 0.24. This will change numeric results when test-set sizes are unequal.\n",
            "  DeprecationWarning)\n"
          ],
          "name": "stderr"
        }
      ]
    },
    {
      "cell_type": "code",
      "metadata": {
        "id": "Xlk4m0u-22Z3",
        "colab_type": "code",
        "outputId": "7c3f291f-d158-48ea-c1d9-d5794882a6b7",
        "colab": {
          "base_uri": "https://localhost:8080/",
          "height": 207
        }
      },
      "source": [
        "from sklearn.neighbors import KNeighborsClassifier\n",
        "\n",
        "knn = KNeighborsClassifier(algorithm='auto', leaf_size=2, metric='minkowski',\n",
        "                     metric_params=None, n_jobs=None, n_neighbors=4, p=1,\n",
        "                     weights='distance')\n",
        "\n",
        "print(\"Train score:\", cross_val_score(knn, X_train, y_train,  scoring=SCORING_METRICS, cv=CV_COUNT)) \n",
        "\n",
        "knn.fit(X_train, y_train)\n",
        "\n",
        "\n",
        "knn_pred_parkinsons = knn.predict(X_test)\n",
        "\n",
        "print_metrics(\"KNN\", y_test, knn_pred_parkinsons)"
      ],
      "execution_count": 38,
      "outputs": [
        {
          "output_type": "stream",
          "text": [
            "Train score: [0.42857143 0.78571429 0.57142857 0.53846154 0.83333333]\n",
            "  ==== KNN ===============\n",
            "[[5 3]\n",
            " [3 6]]\n",
            "\n",
            "f1:              0.666667, \n",
            "precision:       0.666667, \n",
            "recall:          0.666667, \n",
            "Accuracy:        0.647059, \n",
            "Auc:             0.645833  \n",
            "Specificity:     0.625000  \n"
          ],
          "name": "stdout"
        }
      ]
    },
    {
      "cell_type": "code",
      "metadata": {
        "id": "4kDUzdNt5aBW",
        "colab_type": "code",
        "colab": {}
      },
      "source": [
        ""
      ],
      "execution_count": 0,
      "outputs": []
    },
    {
      "cell_type": "markdown",
      "metadata": {
        "id": "3PMzxrAB5XOb",
        "colab_type": "text"
      },
      "source": [
        "### Fine tune random forest"
      ]
    },
    {
      "cell_type": "code",
      "metadata": {
        "id": "N6YUB0zx5azA",
        "colab_type": "code",
        "outputId": "48049dd1-7082-42ab-c80c-071cf5fdb327",
        "colab": {
          "base_uri": "https://localhost:8080/",
          "height": 209
        }
      },
      "source": [
        "# Fine tune random forest\n",
        "from sklearn.model_selection import GridSearchCV\n",
        "\n",
        "rf_clf = RandomForestClassifier(random_state=RANDOM_SEED)\n",
        "\n",
        "param_grid1 = {\n",
        "  'criterion':         ['gini', 'entropy'],\n",
        "  'max_features':      ['auto','sqrt', 'log2'],\n",
        "  'bootstrap':         [True, False],\n",
        "  'n_estimators':      [50, 100, 150, 200],\n",
        "  'max_depth':         [5, 7, 10],\n",
        "  'min_samples_split': [2],\n",
        "  'min_samples_leaf':  [3, 5, 7],\n",
        "}\n",
        "\n",
        "\n",
        "grid_search = GridSearchCV(rf_clf, param_grid =param_grid1, cv=CV_COUNT, scoring=SCORING_METRICS)\n",
        "grid_search.fit(X_train, y_train)\n",
        "\n",
        "#print(ramdomgrid_search)\n",
        "# summarize the results of the random parameter search\n",
        "print(grid_search.best_score_)\n",
        "print(grid_search.best_estimator_)"
      ],
      "execution_count": 22,
      "outputs": [
        {
          "output_type": "stream",
          "text": [
            "0.6119402985074627\n",
            "RandomForestClassifier(bootstrap=True, class_weight=None, criterion='gini',\n",
            "                       max_depth=5, max_features='auto', max_leaf_nodes=None,\n",
            "                       min_impurity_decrease=0.0, min_impurity_split=None,\n",
            "                       min_samples_leaf=3, min_samples_split=2,\n",
            "                       min_weight_fraction_leaf=0.0, n_estimators=150,\n",
            "                       n_jobs=None, oob_score=False, random_state=1, verbose=0,\n",
            "                       warm_start=False)\n"
          ],
          "name": "stdout"
        },
        {
          "output_type": "stream",
          "text": [
            "/usr/local/lib/python3.6/dist-packages/sklearn/model_selection/_search.py:814: DeprecationWarning: The default of the `iid` parameter will change from True to False in version 0.22 and will be removed in 0.24. This will change numeric results when test-set sizes are unequal.\n",
            "  DeprecationWarning)\n"
          ],
          "name": "stderr"
        }
      ]
    },
    {
      "cell_type": "code",
      "metadata": {
        "id": "o7vrDFBS3fvZ",
        "colab_type": "code",
        "outputId": "f61515d2-e6d1-4847-9b28-6fd78524ad4e",
        "colab": {
          "base_uri": "https://localhost:8080/",
          "height": 207
        }
      },
      "source": [
        "rf_clf = RandomForestClassifier(bootstrap=True, class_weight=None, criterion='gini',\n",
        "                       max_depth=5, max_features='auto', max_leaf_nodes=None,\n",
        "                       min_impurity_decrease=0.0, min_impurity_split=None,\n",
        "                       min_samples_leaf=3, min_samples_split=2,\n",
        "                       min_weight_fraction_leaf=0.0, n_estimators=150,\n",
        "                       n_jobs=None, oob_score=False, random_state=1, verbose=0,\n",
        "                       warm_start=False)\n",
        "\n",
        "print(\"Train score:\", cross_val_score(rf_clf, X_train, y_train,  scoring=SCORING_METRICS, cv=CV_COUNT)) \n",
        "\n",
        "rf_clf.fit(X_train, y_train)\n",
        "rf_pred_parkinsons = rf_clf.predict(X_test)\n",
        "print_metrics(\"Random Forest\", y_test, rf_pred_parkinsons)"
      ],
      "execution_count": 39,
      "outputs": [
        {
          "output_type": "stream",
          "text": [
            "Train score: [0.57142857 0.64285714 0.64285714 0.53846154 0.66666667]\n",
            "  ==== Random Forest ===============\n",
            "[[5 3]\n",
            " [2 7]]\n",
            "\n",
            "f1:              0.736842, \n",
            "precision:       0.700000, \n",
            "recall:          0.777778, \n",
            "Accuracy:        0.705882, \n",
            "Auc:             0.701389  \n",
            "Specificity:     0.625000  \n"
          ],
          "name": "stdout"
        }
      ]
    },
    {
      "cell_type": "markdown",
      "metadata": {
        "id": "O9VgNcqymRpR",
        "colab_type": "text"
      },
      "source": [
        "### Fine tune Logistic Regression"
      ]
    },
    {
      "cell_type": "code",
      "metadata": {
        "id": "ATmfai8WmKjB",
        "colab_type": "code",
        "outputId": "c4ffc897-71b2-4b46-e5b4-3c3482e4e286",
        "colab": {
          "base_uri": "https://localhost:8080/",
          "height": 157
        }
      },
      "source": [
        "# Fine tune decision tree\n",
        "from sklearn.model_selection import GridSearchCV\n",
        "\n",
        "lr_clf = LogisticRegression(random_state=RANDOM_SEED)\n",
        "\n",
        "param_grid1 = {\n",
        "              'solver': ['lbfgs', 'liblinear'],\n",
        "              'multi_class': ['ovr'],\n",
        "              'max_iter' : [1000],\n",
        "              'C' : [0.1, 0.9, 1, 10]\n",
        " \n",
        "}\n",
        "\n",
        "grid_search = GridSearchCV(lr_clf, param_grid =param_grid1, cv=CV_COUNT, scoring=SCORING_METRICS)\n",
        "grid_search.fit(X_train, y_train)\n",
        "\n",
        "#print(ramdomgrid_search)\n",
        "# summarize the results of the random parameter search\n",
        "print(grid_search.best_score_)\n",
        "print(grid_search.best_estimator_)"
      ],
      "execution_count": 24,
      "outputs": [
        {
          "output_type": "stream",
          "text": [
            "0.5373134328358209\n",
            "LogisticRegression(C=0.9, class_weight=None, dual=False, fit_intercept=True,\n",
            "                   intercept_scaling=1, l1_ratio=None, max_iter=1000,\n",
            "                   multi_class='ovr', n_jobs=None, penalty='l2', random_state=1,\n",
            "                   solver='lbfgs', tol=0.0001, verbose=0, warm_start=False)\n"
          ],
          "name": "stdout"
        },
        {
          "output_type": "stream",
          "text": [
            "/usr/local/lib/python3.6/dist-packages/sklearn/model_selection/_search.py:814: DeprecationWarning: The default of the `iid` parameter will change from True to False in version 0.22 and will be removed in 0.24. This will change numeric results when test-set sizes are unequal.\n",
            "  DeprecationWarning)\n"
          ],
          "name": "stderr"
        }
      ]
    },
    {
      "cell_type": "code",
      "metadata": {
        "id": "F3TMPuQfmkDh",
        "colab_type": "code",
        "outputId": "241d83f8-29d0-413a-b2e5-1e53f61f398e",
        "colab": {
          "base_uri": "https://localhost:8080/",
          "height": 189
        }
      },
      "source": [
        "from sklearn.linear_model import LogisticRegression\n",
        "lr_clf = LogisticRegression(C=0.9, class_weight=None, dual=False, fit_intercept=True,\n",
        "                   intercept_scaling=1, l1_ratio=None, max_iter=1000,\n",
        "                   multi_class='ovr', n_jobs=None, penalty='l2', random_state=1,\n",
        "                   solver='lbfgs', tol=0.0001, verbose=0, warm_start=False)\n",
        "\n",
        "lr_clf.fit(X_train, y_train)\n",
        "\n",
        "lr_pred_parkinsons = lr_clf.predict(X_test)\n",
        "print_metrics(\"Logistic Regression\", y_test, lr_pred_parkinsons)"
      ],
      "execution_count": 40,
      "outputs": [
        {
          "output_type": "stream",
          "text": [
            "  ==== Logistic Regression ===============\n",
            "[[3 5]\n",
            " [1 8]]\n",
            "\n",
            "f1:              0.727273, \n",
            "precision:       0.615385, \n",
            "recall:          0.888889, \n",
            "Accuracy:        0.647059, \n",
            "Auc:             0.631944  \n",
            "Specificity:     0.375000  \n"
          ],
          "name": "stdout"
        }
      ]
    },
    {
      "cell_type": "markdown",
      "metadata": {
        "id": "4BIubxAL6AWZ",
        "colab_type": "text"
      },
      "source": [
        "## Fine tune Adaboost"
      ]
    },
    {
      "cell_type": "code",
      "metadata": {
        "id": "stEcP7316U0k",
        "colab_type": "code",
        "outputId": "a121c615-ab52-44a1-c385-07f0a0ee9b32",
        "colab": {
          "base_uri": "https://localhost:8080/",
          "height": 123
        }
      },
      "source": [
        "from sklearn.model_selection import GridSearchCV\n",
        "from sklearn.ensemble import AdaBoostClassifier\n",
        "\n",
        "ada_clf = AdaBoostClassifier(random_state=RANDOM_SEED)\n",
        "\n",
        "param_grid1 = {\n",
        "  'n_estimators':      [50, 100, 150],\n",
        "  'learning_rate':     [0.01, 0.1, 1],\n",
        "  'algorithm': ['SAMME', 'SAMME.R'],\n",
        "}\n",
        "\n",
        "grid_search = GridSearchCV(ada_clf, param_grid =param_grid1, cv=CV_COUNT, scoring=SCORING_METRICS)\n",
        "grid_search.fit(X_train, y_train)\n",
        "\n",
        "#print(ramdomgrid_search)\n",
        "# summarize the results of the random parameter search\n",
        "print(grid_search.best_score_)\n",
        "print(grid_search.best_estimator_)"
      ],
      "execution_count": 42,
      "outputs": [
        {
          "output_type": "stream",
          "text": [
            "0.5970149253731343\n",
            "AdaBoostClassifier(algorithm='SAMME.R', base_estimator=None, learning_rate=0.1,\n",
            "                   n_estimators=100, random_state=1)\n"
          ],
          "name": "stdout"
        },
        {
          "output_type": "stream",
          "text": [
            "/usr/local/lib/python3.6/dist-packages/sklearn/model_selection/_search.py:814: DeprecationWarning: The default of the `iid` parameter will change from True to False in version 0.22 and will be removed in 0.24. This will change numeric results when test-set sizes are unequal.\n",
            "  DeprecationWarning)\n"
          ],
          "name": "stderr"
        }
      ]
    },
    {
      "cell_type": "code",
      "metadata": {
        "id": "7GfcVKq87QAD",
        "colab_type": "code",
        "outputId": "f4dc1bcc-a62c-4b3c-b6ed-7401e333889c",
        "colab": {
          "base_uri": "https://localhost:8080/",
          "height": 189
        }
      },
      "source": [
        "from sklearn.ensemble import AdaBoostClassifier\n",
        "\n",
        "ada_clf = AdaBoostClassifier(algorithm='SAMME.R', base_estimator=None, learning_rate=0.1,\n",
        "                   n_estimators=100, random_state=1)\n",
        "\n",
        "ada_clf.fit(X_train, y_train)\n",
        "\n",
        "ada_pred_parkinsons = ada_clf.predict(X_test)\n",
        "print_metrics(\"Adaboost\", y_test, ada_pred_parkinsons)"
      ],
      "execution_count": 41,
      "outputs": [
        {
          "output_type": "stream",
          "text": [
            "  ==== Adaboost ===============\n",
            "[[6 2]\n",
            " [4 5]]\n",
            "\n",
            "f1:              0.625000, \n",
            "precision:       0.714286, \n",
            "recall:          0.555556, \n",
            "Accuracy:        0.647059, \n",
            "Auc:             0.652778  \n",
            "Specificity:     0.750000  \n"
          ],
          "name": "stdout"
        }
      ]
    },
    {
      "cell_type": "markdown",
      "metadata": {
        "id": "qI_2XkSrA0QU",
        "colab_type": "text"
      },
      "source": [
        "## Fine tune xgboost"
      ]
    },
    {
      "cell_type": "code",
      "metadata": {
        "id": "8BG_YZfKA43F",
        "colab_type": "code",
        "colab": {
          "base_uri": "https://localhost:8080/",
          "height": 209
        },
        "outputId": "b29e6589-3fbf-477b-f449-0e7ae997b5e2"
      },
      "source": [
        "from sklearn.model_selection import GridSearchCV\n",
        "\n",
        "from xgboost import XGBClassifier\n",
        "\n",
        "xgb_clf = XGBClassifier(random_state=RANDOM_SEED)\n",
        "\n",
        "param_grid1 = {\n",
        "  'max_depth':         [2, 3, 5],\n",
        "  'learning_rate':     [0.1, 1, 10],\n",
        "  'n_estimators':      [10, 20, 50], \n",
        "  #'booster':           ['gbtree', 'gblinear', 'dart'], \n",
        "  'booster':           ['gbtree'],\n",
        "  'gamma':             [0.0001, 0.001, 0.01, 0.1],   \n",
        "    \n",
        "#   'max_features':      ['auto','sqrt', 'log2'],\n",
        "#   'bootstrap':         [True, False],\n",
        "}\n",
        "\n",
        "# min_child_weight (int) – Minimum sum of instance weight(hessian) needed in a child.\n",
        "\n",
        "# max_delta_step (int) – Maximum delta step we allow each tree’s weight estimation to be.\n",
        "\n",
        "# subsample (float) – Subsample ratio of the training instance.\n",
        "\n",
        "# colsample_bytree (float) – Subsample ratio of columns when constructing each tree.\n",
        "\n",
        "# colsample_bylevel (float) – Subsample ratio of columns for each level.\n",
        "\n",
        "# colsample_bynode (float) – Subsample ratio of columns for each split.\n",
        "\n",
        "# reg_alpha (float (xgb's alpha)) – L1 regularization term on weights\n",
        "\n",
        "# reg_lambda (float (xgb's lambda)) – L2 regularization term on weights\n",
        "\n",
        "# scale_pos_weight (float) – Balancing of positive and negative weights.\n",
        "\n",
        "# base_score – The initial prediction score of all instances, global bias.\n",
        "\n",
        "# seed (int) – Random number seed. (Deprecated, please use random_state)\n",
        "\n",
        "# random_state (int) – Random number seed. (replaces seed)\n",
        "\n",
        "# missing (float, optional) – Value in the data which needs to be present as a missing value. If None, defaults to np.nan.\n",
        "\n",
        "# importance_type (string, default \"gain\") – The feature importance type for the feature_importances_ property: either “gain”, “weight”, “cover”, “total_gain” or “total_cover”.\n",
        "\n",
        "# **kwargs (dict, optional) –\n",
        "\n",
        "\n",
        "\n",
        "grid_search = GridSearchCV(xgb_clf, param_grid =param_grid1, cv=CV_COUNT, scoring=SCORING_METRICS)\n",
        "grid_search.fit(X_train, y_train)\n",
        "\n",
        "#print(ramdomgrid_search)\n",
        "# summarize the results of the random parameter search\n",
        "print(grid_search.best_score_)\n",
        "print(grid_search.best_estimator_)"
      ],
      "execution_count": 28,
      "outputs": [
        {
          "output_type": "stream",
          "text": [
            "0.6567164179104478\n",
            "XGBClassifier(base_score=0.5, booster='gbtree', colsample_bylevel=1,\n",
            "              colsample_bynode=1, colsample_bytree=1, gamma=0.001,\n",
            "              learning_rate=1, max_delta_step=0, max_depth=3,\n",
            "              min_child_weight=1, missing=None, n_estimators=20, n_jobs=1,\n",
            "              nthread=None, objective='binary:logistic', random_state=1,\n",
            "              reg_alpha=0, reg_lambda=1, scale_pos_weight=1, seed=None,\n",
            "              silent=None, subsample=1, verbosity=1)\n"
          ],
          "name": "stdout"
        },
        {
          "output_type": "stream",
          "text": [
            "/usr/local/lib/python3.6/dist-packages/sklearn/model_selection/_search.py:814: DeprecationWarning: The default of the `iid` parameter will change from True to False in version 0.22 and will be removed in 0.24. This will change numeric results when test-set sizes are unequal.\n",
            "  DeprecationWarning)\n"
          ],
          "name": "stderr"
        }
      ]
    },
    {
      "cell_type": "code",
      "metadata": {
        "id": "KmJuMKnrAzl_",
        "colab_type": "code",
        "colab": {
          "base_uri": "https://localhost:8080/",
          "height": 241
        },
        "outputId": "6538049a-94c2-4c8b-90a9-026609cec05a"
      },
      "source": [
        "\n",
        "xgb_clf = XGBClassifier(base_score=0.5, booster='gbtree', colsample_bylevel=1,\n",
        "              colsample_bynode=1, colsample_bytree=1, gamma=0.001,\n",
        "              learning_rate=1, max_delta_step=0, max_depth=3,\n",
        "              min_child_weight=1, missing=None, n_estimators=20, n_jobs=1,\n",
        "              nthread=None, objective='binary:logistic', random_state=1,\n",
        "              reg_alpha=0, reg_lambda=1, scale_pos_weight=1, seed=None,\n",
        "              silent=None, subsample=1, verbosity=1)\n",
        "\n",
        "\n",
        "print(\"\\nXGBClassifier Train score:\\n\", cross_val_score(xgb_clf, X_train, y_train,  scoring=SCORING_METRICS, cv=CV_COUNT)) \n",
        "ignored = xgb_clf.fit(X_train, y_train)\n",
        "\n",
        "xgb_pred_parkinsons = xgb_clf.predict(X_test)\n",
        "print_metrics(\"XGBClassifier\", y_test, xgb_pred_parkinsons)\n"
      ],
      "execution_count": 29,
      "outputs": [
        {
          "output_type": "stream",
          "text": [
            "\n",
            "XGBClassifier Train score:\n",
            " [0.57142857 0.71428571 0.64285714 0.53846154 0.83333333]\n",
            "  ==== XGBClassifier ===============\n",
            "[[5 3]\n",
            " [2 7]]\n",
            "\n",
            "f1:              0.736842, \n",
            "precision:       0.700000, \n",
            "recall:          0.777778, \n",
            "Accuracy:        0.705882, \n",
            "Auc:             0.701389  \n",
            "Specificity:     0.625000  \n"
          ],
          "name": "stdout"
        }
      ]
    },
    {
      "cell_type": "code",
      "metadata": {
        "id": "sM04pKXxcE9Q",
        "colab_type": "code",
        "outputId": "3750445e-2874-407b-d393-284ed97e4bdf",
        "colab": {
          "base_uri": "https://localhost:8080/",
          "height": 1000
        }
      },
      "source": [
        "X_test1 = X_test\n",
        "y_test1 = y_test\n",
        "\n",
        "print(\"After tuned\")\n",
        "\n",
        "#y_always_false = np.zeros(y_test.shape)\n",
        "y_always_true = np.ones(y_test1.shape)\n",
        "#y_always_false[0] = True # just to make f1 value\n",
        "print_metrics(\"Always true\", y_test1, y_always_true)\n",
        "#print_metrics(\"Always false\", y_test, y_always_false)\n",
        "\n",
        "knn_pred_parkinsons = knn.predict(X_test1)\n",
        "print_metrics(\"KNN\", y_test1, knn_pred_parkinsons)\n",
        "\n",
        "rf_pred_parkinsons = rf_clf.predict(X_test1)\n",
        "print_metrics(\"Random Forest\", y_test1, rf_pred_parkinsons)\n",
        "\n",
        "dt_pred_parkinsons = dt_clf.predict(X_test1)\n",
        "print_metrics(\"Decision Tree\", y_test1, dt_pred_parkinsons)\n",
        "\n",
        "lr_pred_parkinsons = lr_clf.predict(X_test1)\n",
        "print_metrics(\"Logistic Regression\", y_test1, lr_pred_parkinsons)\n",
        "\n",
        "svc_pred_parkinsons = svc_clf.predict(X_test1)\n",
        "print_metrics(\"SVC\", y_test1, svc_pred_parkinsons)\n",
        "\n",
        "ada_pred_parkinsons = ada_clf.predict(X_test1)\n",
        "print_metrics(\"Adaboost\", y_test1, ada_pred_parkinsons)\n",
        "\n",
        "xgb_pred_parkinsons = ada_clf.predict(X_test1)\n",
        "print_metrics(\"xgboost\", y_test1, xgb_pred_parkinsons)\n"
      ],
      "execution_count": 30,
      "outputs": [
        {
          "output_type": "stream",
          "text": [
            "After tuned\n",
            "  ==== Always true ===============\n",
            "[[0 8]\n",
            " [0 9]]\n",
            "\n",
            "f1:              0.692308, \n",
            "precision:       0.529412, \n",
            "recall:          1.000000, \n",
            "Accuracy:        0.529412, \n",
            "Auc:             0.500000  \n",
            "Specificity:     0.000000  \n",
            "  ==== KNN ===============\n",
            "[[4 4]\n",
            " [5 4]]\n",
            "\n",
            "f1:              0.470588, \n",
            "precision:       0.500000, \n",
            "recall:          0.444444, \n",
            "Accuracy:        0.470588, \n",
            "Auc:             0.472222  \n",
            "Specificity:     0.500000  \n",
            "  ==== Random Forest ===============\n",
            "[[5 3]\n",
            " [4 5]]\n",
            "\n",
            "f1:              0.588235, \n",
            "precision:       0.625000, \n",
            "recall:          0.555556, \n",
            "Accuracy:        0.588235, \n",
            "Auc:             0.590278  \n",
            "Specificity:     0.625000  \n",
            "  ==== Decision Tree ===============\n",
            "[[4 4]\n",
            " [3 6]]\n",
            "\n",
            "f1:              0.631579, \n",
            "precision:       0.600000, \n",
            "recall:          0.666667, \n",
            "Accuracy:        0.588235, \n",
            "Auc:             0.583333  \n",
            "Specificity:     0.500000  \n",
            "  ==== Logistic Regression ===============\n",
            "[[3 5]\n",
            " [1 8]]\n",
            "\n",
            "f1:              0.727273, \n",
            "precision:       0.615385, \n",
            "recall:          0.888889, \n",
            "Accuracy:        0.647059, \n",
            "Auc:             0.631944  \n",
            "Specificity:     0.375000  \n",
            "  ==== SVC ===============\n",
            "[[2 6]\n",
            " [4 5]]\n",
            "\n",
            "f1:              0.500000, \n",
            "precision:       0.454545, \n",
            "recall:          0.555556, \n",
            "Accuracy:        0.411765, \n",
            "Auc:             0.402778  \n",
            "Specificity:     0.250000  \n",
            "  ==== Adaboost ===============\n",
            "[[5 3]\n",
            " [4 5]]\n",
            "\n",
            "f1:              0.588235, \n",
            "precision:       0.625000, \n",
            "recall:          0.555556, \n",
            "Accuracy:        0.588235, \n",
            "Auc:             0.590278  \n",
            "Specificity:     0.625000  \n",
            "  ==== xgboost ===============\n",
            "[[5 3]\n",
            " [4 5]]\n",
            "\n",
            "f1:              0.588235, \n",
            "precision:       0.625000, \n",
            "recall:          0.555556, \n",
            "Accuracy:        0.588235, \n",
            "Auc:             0.590278  \n",
            "Specificity:     0.625000  \n"
          ],
          "name": "stdout"
        }
      ]
    },
    {
      "cell_type": "code",
      "metadata": {
        "id": "QEy2hRcM-0ii",
        "colab_type": "code",
        "colab": {}
      },
      "source": [
        ""
      ],
      "execution_count": 0,
      "outputs": []
    },
    {
      "cell_type": "code",
      "metadata": {
        "id": "zw6o_GbfpooI",
        "colab_type": "code",
        "colab": {}
      },
      "source": [
        "from sklearn.ensemble import VotingClassifier\n",
        "\n",
        "def voting_results(dataset_name, X_tr, X_te, y_tr, y_te, list_of_classifier=[]):\n",
        "  \n",
        "  voting_option = ['hard', 'soft']\n",
        "\n",
        "  #print(\"-------- \", dataset_name )\n",
        "  for option in voting_option:\n",
        "    eclf_1 = VotingClassifier(estimators=list_of_classifier, voting=option)\n",
        "\n",
        "    eclf_1 = eclf_1.fit(X_tr, y_tr)\n",
        "\n",
        "    print(\"=== Using Voting:\", option)\n",
        "\n",
        "    print_metrics(\"X_train (\"+ option + \")\", y_tr, eclf_1.predict(X_tr))\n",
        "\n",
        "    print_metrics(\"X_test (\"+ option + \")\" , y_te, eclf_1.predict(X_te))\n",
        "    \n",
        "    \n",
        "#voting_results(\"All features\", X_train, X_test, y_train, y_test, all_features_clf_list)  "
      ],
      "execution_count": 0,
      "outputs": []
    },
    {
      "cell_type": "code",
      "metadata": {
        "id": "cViJqBu-1pU4",
        "colab_type": "code",
        "outputId": "1f02d371-8697-4e53-d030-1c1694861293",
        "colab": {
          "base_uri": "https://localhost:8080/",
          "height": 742
        }
      },
      "source": [
        "from sklearn.ensemble import VotingClassifier\n",
        "\n",
        "\n",
        "all_features_clf_list = [  ('knn', knn), \n",
        "                           ('rf', rf_clf), \n",
        "                           ('dt', dt_clf), \n",
        "                           ('lr', lr_clf), \n",
        "                           ('svc', svc_clf),\n",
        "                           ('ada', ada_clf),\n",
        "                           ('xgb', xgb_clf)]\n",
        "\n",
        "voting_results(\"All features\", X_train, X_test, y_train, y_test, all_features_clf_list)  \n"
      ],
      "execution_count": 32,
      "outputs": [
        {
          "output_type": "stream",
          "text": [
            "=== Using Voting: hard\n",
            "  ==== X_train (hard) ===============\n",
            "[[33  0]\n",
            " [ 0 34]]\n",
            "\n",
            "f1:              1.000000, \n",
            "precision:       1.000000, \n",
            "recall:          1.000000, \n",
            "Accuracy:        1.000000, \n",
            "Auc:             1.000000  \n",
            "Specificity:     1.000000  \n",
            "  ==== X_test (hard) ===============\n",
            "[[3 5]\n",
            " [4 5]]\n",
            "\n",
            "f1:              0.526316, \n",
            "precision:       0.500000, \n",
            "recall:          0.555556, \n",
            "Accuracy:        0.470588, \n",
            "Auc:             0.465278  \n",
            "Specificity:     0.375000  \n",
            "=== Using Voting: soft\n",
            "  ==== X_train (soft) ===============\n",
            "[[33  0]\n",
            " [ 0 34]]\n",
            "\n",
            "f1:              1.000000, \n",
            "precision:       1.000000, \n",
            "recall:          1.000000, \n",
            "Accuracy:        1.000000, \n",
            "Auc:             1.000000  \n",
            "Specificity:     1.000000  \n",
            "  ==== X_test (soft) ===============\n",
            "[[2 6]\n",
            " [4 5]]\n",
            "\n",
            "f1:              0.500000, \n",
            "precision:       0.454545, \n",
            "recall:          0.555556, \n",
            "Accuracy:        0.411765, \n",
            "Auc:             0.402778  \n",
            "Specificity:     0.250000  \n"
          ],
          "name": "stdout"
        }
      ]
    },
    {
      "cell_type": "code",
      "metadata": {
        "id": "NWOApsAr8Tux",
        "colab_type": "code",
        "colab": {}
      },
      "source": [
        "# After tuned (accuracy)\n",
        "#   ==== Always true ===============\n",
        "# [[0 8]\n",
        "#  [0 9]]\n",
        "\n",
        "# f1:              0.692308, \n",
        "# precision:       0.529412, \n",
        "# recall:          1.000000, \n",
        "# Accuracy:        0.529412, \n",
        "# Auc:             0.500000  \n",
        "# Specificity:     0.000000  \n",
        "#   ==== KNN ===============\n",
        "# [[1 7]\n",
        "#  [2 7]]\n",
        "\n",
        "# f1:              0.608696, \n",
        "# precision:       0.500000, \n",
        "# recall:          0.777778, \n",
        "# Accuracy:        0.470588, \n",
        "# Auc:             0.451389  \n",
        "# Specificity:     0.125000  \n",
        "#   ==== Random Forest ===============\n",
        "# [[5 3]\n",
        "#  [2 7]]\n",
        "\n",
        "# f1:              0.736842, \n",
        "# precision:       0.700000, \n",
        "# recall:          0.777778, \n",
        "# Accuracy:        0.705882, \n",
        "# Auc:             0.701389  \n",
        "# Specificity:     0.625000  \n",
        "#   ==== Decision Tree ===============\n",
        "# [[6 2]\n",
        "#  [3 6]]\n",
        "\n",
        "# f1:              0.705882, \n",
        "# precision:       0.750000, \n",
        "# recall:          0.666667, \n",
        "# Accuracy:        0.705882, \n",
        "# Auc:             0.708333  \n",
        "# Specificity:     0.750000  \n",
        "#   ==== Logistic Regression ===============\n",
        "# [[1 7]\n",
        "#  [0 9]]\n",
        "\n",
        "# f1:              0.720000, \n",
        "# precision:       0.562500, \n",
        "# recall:          1.000000, \n",
        "# Accuracy:        0.588235, \n",
        "# Auc:             0.562500  \n",
        "# Specificity:     0.125000  \n",
        "#   ==== SVC ===============\n",
        "# [[3 5]\n",
        "#  [2 7]]\n",
        "\n",
        "# f1:              0.666667, \n",
        "# precision:       0.583333, \n",
        "# recall:          0.777778, \n",
        "# Accuracy:        0.588235, \n",
        "# Auc:             0.576389  \n",
        "# Specificity:     0.375000  \n",
        "#   ==== Adaboost ===============\n",
        "# [[5 3]\n",
        "#  [1 8]]\n",
        "\n",
        "# f1:              0.800000, \n",
        "# precision:       0.727273, \n",
        "# recall:          0.888889, \n",
        "# Accuracy:        0.764706, \n",
        "# Auc:             0.756944  \n",
        "# Specificity:     0.625000  \n",
        "  \n",
        "#   === Using Voting: hard\n",
        "#   ==== X_train (hard) ===============\n",
        "# [[32  1]\n",
        "#  [ 0 34]]\n",
        "\n",
        "# f1:              0.985507, \n",
        "# precision:       0.971429, \n",
        "# recall:          1.000000, \n",
        "# Accuracy:        0.985075, \n",
        "# Auc:             0.984848  \n",
        "# Specificity:     0.969697  \n",
        "#   ==== X_test (hard) ===============\n",
        "# [[4 4]\n",
        "#  [1 8]]\n",
        "\n",
        "# f1:              0.761905, \n",
        "# precision:       0.666667, \n",
        "# recall:          0.888889, \n",
        "# Accuracy:        0.705882, \n",
        "# Auc:             0.694444  \n",
        "# Specificity:     0.500000  \n",
        "# === Using Voting: soft\n",
        "#   ==== X_train (soft) ===============\n",
        "# [[33  0]\n",
        "#  [ 0 34]]\n",
        "\n",
        "# f1:              1.000000, \n",
        "# precision:       1.000000, \n",
        "# recall:          1.000000, \n",
        "# Accuracy:        1.000000, \n",
        "# Auc:             1.000000  \n",
        "# Specificity:     1.000000  \n",
        "#   ==== X_test (soft) ===============\n",
        "# [[4 4]\n",
        "#  [2 7]]\n",
        "\n",
        "# f1:              0.700000, \n",
        "# precision:       0.636364, \n",
        "# recall:          0.777778, \n",
        "# Accuracy:        0.647059, \n",
        "# Auc:             0.638889  \n",
        "# Specificity:     0.500000  "
      ],
      "execution_count": 0,
      "outputs": []
    }
  ]
}